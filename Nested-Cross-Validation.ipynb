{
 "cells": [
  {
   "cell_type": "markdown",
   "metadata": {},
   "source": [
    "# 1. Nested cross-validation exercise\n",
    "## Nested cross-validation for feature selection with nearest neighbors <br>\n",
    "- Use Python 3 to program both a hyper-parameter selection method based on 5-fold cross-validation and a nested 5-fold cross-validation for estimating the prediction performance of models inferred with this automatic selection approach. Use base learning algorithm provided in the exercise, namely the \"use_ith_feature\" method, so that the value of the hyper-parameter i is automatically selected from the range from 1 to 100 of alternative values. The provided base learning algorithm \"use_ith_feature\" is 1-nearest neighbor that uses only the ith feature of the data given to it. The 5-fold CV based hyper-parameter selection procedure is supposed to select the best feature, e.g. the value of i, based on C-index evaluated with predictions obtained with 5-fold cross-validation. A ready-made implementation of C-index is also provided in the exercise. In nested 5-fold cross-validation, a C_index value is further evaluated on the predictions obtained from an outer 5-fold cross-validation. During each round of this outer 5-fold CV, the whole feature selection process based on inner 5-fold CV is separately done and the selected feature is used for prediction for the test data points held out during that round of the outer CV. Accordingly, the actual learning algorithm, whose prediction performance will be evaluated with nested CV, is the one that automatically selects the single best feature with 5-fold cross-validation based model selection (see the lectures and the pseudo codes presented on them for more info on this interpretation).\n",
    "- Compare the C-index produced by nested 5-fold CV with the result of ordinary 5-fold CV with the best value of i e.g. the feature providing the highest 5-fold CV C-index, and show the C-index difference between the two methods.\n",
    "- Use the provided implementation of the \"use_ith_feature\" learning algorithm and C-index functions in your exercise.\n",
    "\n",
    "As a summary, for completing this exercise implement the following steps: \n",
    "_______________________________________________________________\n",
    "#### 1. Use 5-fold cross-validation for determining the optimal i-parameter for the data (X_train.csv, y_prediction.csv) from the set of possible values of i e.g. {1,...,100}. When you have found the optimal i, save the corresponding C-index (call it 5_fold_c_index) for this parameter.\n",
    "#### 2. Similarly, use nested cross-validation ( 5-fold CV both in outer and inner folds) for estimating the C-index (call it n_5_fold_c_index) of the method that selects the best feature with 5-fold approach. \n",
    "#### 3. Return both this notebook and as a PDF-file made from it in the exercise submit page. \n",
    "_______________________________________________________________\n",
    "\n",
    "Remember to use the provided learning algorithm use_ith_feature and C-index functions in your implementation! "
   ]
  },
  {
   "cell_type": "markdown",
   "metadata": {},
   "source": [
    "## Import libraries"
   ]
  },
  {
   "cell_type": "code",
   "execution_count": 10,
   "metadata": {},
   "outputs": [],
   "source": [
    "#In this cell import all libraries you need. For example: \n",
    "import numpy as np\n",
    "from sklearn.model_selection import KFold\n",
    "import pandas as pd"
   ]
  },
  {
   "cell_type": "markdown",
   "metadata": {},
   "source": [
    "## Provided functions "
   ]
  },
  {
   "cell_type": "code",
   "execution_count": 11,
   "metadata": {},
   "outputs": [],
   "source": [
    "\"\"\"\n",
    "C-index function: \n",
    "- INPUTS: \n",
    "'y' an array of the true output values\n",
    "'yp' an array of predicted output values\n",
    "- OUTPUT: \n",
    "The c-index value\n",
    "\"\"\"\n",
    "def cindex(y, yp):\n",
    "    n = 0\n",
    "    h_num = 0 \n",
    "    for i in range(0, len(y)):\n",
    "        t = y[i]\n",
    "        p = yp[i]\n",
    "        for j in range(i+1, len(y)):\n",
    "            nt = y[j]\n",
    "            np = yp[j]\n",
    "            if (t != nt): \n",
    "                n = n + 1\n",
    "                if (p < np and t < nt) or (p > np and t > nt): \n",
    "                    h_num += 1\n",
    "                elif (p == np):\n",
    "                    h_num += 0.5\n",
    "    return h_num/n\n",
    "\n",
    "\"\"\"\n",
    "Self-contained 1-nearest neighbor using only a single feature\n",
    "- INPUTS: \n",
    "'X_train' a numpy matrix of the X-features of the train data points\n",
    "'y_train' a numpy matrix of the output values of the train data points\n",
    "'X_test' a numpy matrix of the X-features of the test data points\n",
    "'i' the index of the feature to be used with 1-nearest neighbor\n",
    "- OUTPUT: \n",
    "'y_predictions' a list of the output value predictions\n",
    "\"\"\"\n",
    "def use_ith_feature(X_train, y_train, X_test, i):\n",
    "    y_predictions = []\n",
    "    for test_ind in range(0, X_test.shape[0]):\n",
    "        diff = X_test[test_ind, i] - X_train[:, i]\n",
    "        distances = np.sqrt(diff * diff)\n",
    "        sort_inds = np.array(np.argsort(distances), dtype=int)\n",
    "        y_predictions.append(y_train[sort_inds[0]])\n",
    "    return y_predictions\n"
   ]
  },
  {
   "cell_type": "markdown",
   "metadata": {},
   "source": [
    "## Your implementation here"
   ]
  },
  {
   "cell_type": "code",
   "execution_count": 12,
   "metadata": {},
   "outputs": [
    {
     "name": "stdout",
     "output_type": "stream",
     "text": [
      "Optimal i parameter: 45\n",
      "5-fold C-index for the optimal i: 0.74\n"
     ]
    }
   ],
   "source": [
    "# reading the data from csv files\n",
    "X = pd.read_csv('X_train.csv', header=None)\n",
    "y = pd.read_csv('y_prediction.csv', header=None)\n",
    "X_train = X.values\n",
    "y_train = y.values\n",
    "\n",
    "# number of the folds for C-V\n",
    "n_folds = 5\n",
    "kf = KFold(n_splits=n_folds, shuffle=True, random_state=42)\n",
    "\n",
    "# variables for results\n",
    "best_i = None\n",
    "best_c_index = 0.0\n",
    "\n",
    "# 5-fold C-V\n",
    "for i in range(X_train.shape[1]):\n",
    "    total_c_index = 0.0\n",
    "    \n",
    "    for train_index, val_index in kf.split(X_train):\n",
    "        X_train_fold, X_val_fold = X_train[train_index], X_train[val_index]\n",
    "        y_train_fold, y_val_fold = y_train[train_index], y_train[val_index]\n",
    "        \n",
    "        #  1-NN with the current i\n",
    "        y_pred_fold = use_ith_feature(X_train_fold, y_train_fold, X_val_fold, i)\n",
    "        \n",
    "        # c-index for the current fold\n",
    "        c_index_fold = cindex(y_val_fold, y_pred_fold)\n",
    "        total_c_index += c_index_fold\n",
    "    \n",
    "    # average c-index among folds for the current i\n",
    "    avg_c_index = total_c_index / n_folds\n",
    "    \n",
    "    # updating the best_i and best_c_index \n",
    "    if avg_c_index > best_c_index:\n",
    "        best_i = i\n",
    "        best_c_index = avg_c_index\n",
    "\n",
    "print(f\"Optimal i parameter: {best_i}\")\n",
    "print(f\"5-fold C-index for the optimal i: {best_c_index}\")\n"
   ]
  },
  {
   "cell_type": "code",
   "execution_count": 13,
   "metadata": {},
   "outputs": [
    {
     "name": "stdout",
     "output_type": "stream",
     "text": [
      "Nested 5-fold C-index for the method that selects the best feature: 0.4666666666666667\n"
     ]
    }
   ],
   "source": [
    "X = pd.read_csv('X_train.csv', header=None)\n",
    "y = pd.read_csv('y_prediction.csv', header=None)\n",
    "X_train = X.values\n",
    "y_train = y.values\n",
    "\n",
    "# number of folds for outer and inner C-V\n",
    "outer_n_folds = 5\n",
    "inner_n_folds = 5\n",
    "\n",
    "# in order to save results\n",
    "outer_total_c_index = 0.0\n",
    "\n",
    "# This is the outer C-V\n",
    "outer_kf = KFold(n_splits=outer_n_folds, shuffle=True, random_state=42)\n",
    "for outer_train_index, outer_test_index in outer_kf.split(X_train):\n",
    "    X_outer_train, X_outer_test = X_train[outer_train_index], X_train[outer_test_index]\n",
    "    y_outer_train, y_outer_test = y_train[outer_train_index], y_train[outer_test_index]\n",
    "    \n",
    "    # variables for inner C-V\n",
    "    inner_best_i = None\n",
    "    inner_best_c_index = 0.0\n",
    "    \n",
    "    # This is the inner C-V\n",
    "    inner_kf = KFold(n_splits=inner_n_folds, shuffle=True, random_state=42)\n",
    "    for i in range(X_outer_train.shape[1]):\n",
    "        inner_total_c_index = 0.0\n",
    "        \n",
    "        for inner_train_index, inner_val_index in inner_kf.split(X_outer_train):\n",
    "            X_inner_train, X_inner_val = X_outer_train[inner_train_index], X_outer_train[inner_val_index]\n",
    "            y_inner_train, y_inner_val = y_outer_train[inner_train_index], y_outer_train[inner_val_index]\n",
    "            \n",
    "            # 1-NN with the current  i\n",
    "            y_pred_inner = use_ith_feature(X_inner_train, y_inner_train, X_inner_val, i)\n",
    "            \n",
    "            # c-index for the current fold\n",
    "            c_index_inner = cindex(y_inner_val, y_pred_inner)\n",
    "            inner_total_c_index += c_index_inner\n",
    "        \n",
    "        # average c-index in inner folds\n",
    "        avg_c_index_inner = inner_total_c_index / inner_n_folds\n",
    "        \n",
    "        # updating the inner_best_i and inner_best_c_index \n",
    "        if avg_c_index_inner > inner_best_c_index:\n",
    "            inner_best_i = i\n",
    "            inner_best_c_index = avg_c_index_inner\n",
    "    \n",
    "    # best_i from inner C-V to predicting on the outer testset\n",
    "    y_pred_outer = use_ith_feature(X_outer_train, y_outer_train, X_outer_test, inner_best_i)\n",
    "    \n",
    "    # c-index for the outer fold using the best_i\n",
    "    c_index_outer = cindex(y_outer_test, y_pred_outer)\n",
    "    outer_total_c_index += c_index_outer\n",
    "\n",
    "#  average c-index in outer folds\n",
    "avg_c_index_outer = outer_total_c_index / outer_n_folds\n",
    "\n",
    "print(f\"Nested 5-fold C-index for the method that selects the best feature: {avg_c_index_outer}\")\n"
   ]
  },
  {
   "cell_type": "markdown",
   "metadata": {},
   "source": [
    "In this exercise, the c-index differences for 5-fold cross validation and nested one was something around 0.273333. First, I expected that the performance should be higher with nested cross validation which did not happen at all, so I thought that there might be something wrong or unexpected, for example the fact that the labeled data has only 30 observation might be influencing the results. But, after some search, I came to the conclusion that neasted cross validation gives a more reliable model performance evaluation, not necassrily a better performance.\n",
    "\n",
    "Also, in this assignment it was a bit hard to understand that the purpose of hyper parameter tuning here is feature selection. Also, it does not make sense to me, that why among 100 features, only one feature has been selected as the best one. Probably is not a real feature selection and just an assignment to make familliar in simplest possible way."
   ]
  }
 ],
 "metadata": {
  "kernelspec": {
   "display_name": "Python 3 (ipykernel)",
   "language": "python",
   "name": "python3"
  },
  "language_info": {
   "codemirror_mode": {
    "name": "ipython",
    "version": 3
   },
   "file_extension": ".py",
   "mimetype": "text/x-python",
   "name": "python",
   "nbconvert_exporter": "python",
   "pygments_lexer": "ipython3",
   "version": "3.8.10"
  },
  "toc": {
   "base_numbering": 1,
   "nav_menu": {},
   "number_sections": false,
   "sideBar": true,
   "skip_h1_title": false,
   "title_cell": "Table of Contents",
   "title_sidebar": "Contents",
   "toc_cell": false,
   "toc_position": {},
   "toc_section_display": true,
   "toc_window_display": true
  },
  "varInspector": {
   "cols": {
    "lenName": 16,
    "lenType": 16,
    "lenVar": 40
   },
   "kernels_config": {
    "python": {
     "delete_cmd_postfix": "",
     "delete_cmd_prefix": "del ",
     "library": "var_list.py",
     "varRefreshCmd": "print(var_dic_list())"
    },
    "r": {
     "delete_cmd_postfix": ") ",
     "delete_cmd_prefix": "rm(",
     "library": "var_list.r",
     "varRefreshCmd": "cat(var_dic_list()) "
    }
   },
   "types_to_exclude": [
    "module",
    "function",
    "builtin_function_or_method",
    "instance",
    "_Feature"
   ],
   "window_display": false
  }
 },
 "nbformat": 4,
 "nbformat_minor": 4
}
