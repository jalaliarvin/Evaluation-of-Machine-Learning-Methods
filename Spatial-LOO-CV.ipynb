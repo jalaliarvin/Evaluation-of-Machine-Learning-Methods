{
 "cells": [
  {
   "cell_type": "markdown",
   "metadata": {},
   "source": [
    "# Exercise 3 | TKO_7092 Evaluation of Machine Learning Methods 2024\n",
    "## deadline: 14.2.2024 - 23:59\n",
    "\n",
    "Regarding any questions about this exercise, please contact course assistant Jonne Pohjankukka (jjepoh@utu.fi)\n",
    "\n",
    "********************************************\n",
    "\n",
    "Student name: Arvin Jalali\n",
    "\n",
    "Student number: 2310744\n",
    "\n",
    "Student email: arvin.a.jalali@utu.fi\n",
    "\n",
    "********************************************"
   ]
  },
  {
   "cell_type": "markdown",
   "metadata": {},
   "source": [
    "## Water permeability prediction in forestry <br>\n",
    "\n",
    "In this task, the client wants you to estimate the spatial prediction performance of K-nearest neighbor regression model with K=15 (15NN), using spatial leave-one-out cross-validation (i.e. SKCV, with number of folds == number of data points). The client wants you to use the C-index as the performance measure.  \n",
    "\n",
    "In other words, the client wants you to answer the question: \"What happens to the prediction performance of water permeability using 15-nearest neighbor regression model, when the geographical distance between known data and unknown data increases?\".\n",
    "\n",
    "In this task, you have three data files available (with 1691 data points): \n",
    "\n",
    "- input.csv, contains the 75 predictor features. \n",
    "- output.csv, contains the water permebility values. \n",
    "- coordinates.csv, contains the corresponding geographical coordinate locations of the data points. The unit of the coordinates is metre, and you can use Euclidean distance to calculate distances between the coordinate points. \n",
    "\n",
    "Implement the following tasks to complete this exercise:\n",
    "\n",
    "********************************************\n",
    "\n",
    "#### 1. Z-score standardize the predictor features (input.csv). \n",
    "\n",
    "#### 2. Perform spatial leave-one-out cross-validation with 15NN model for the provided data set (refer to the lectures 3.1.3 and 3.1.4 for help). Estimate the water permeability prediction performance (using 15NN model and C-index) with the following distance parameter values: d = 0, 10, 20, ..., 250 (that is, 10 meter intervals from 0m to 250m). \n",
    "\n",
    "#### 3. When you have calculated the C-index performance measure for each value of d, visualize the results with the C-index (y-axis) as a function of d (x-axis).\n",
    "\n",
    "********************************************\n",
    "\n",
    "Your .ipynb-file must include the following: \n",
    "\n",
    "- Your own implementation of the spatial leave-one-out cross-validation for the current task. You can use third-party libraries (e.g. Scikit-learn) if you want for implementing e.g. the 15-nearest neighbor. Also, try to follow good programming practices and add comments to relevant parts of your code explaining what you are doing and why.\n",
    "\n",
    "\n",
    "- Plot of the graph C-index vs. distance parameter value. \n",
    "\n",
    "\n",
    "<br><br><br>\n",
    "-- START IMPLEMENTING YOUR EXERCISE AFTER THIS LINE --\n",
    "<br><br><br>"
   ]
  },
  {
   "cell_type": "markdown",
   "metadata": {},
   "source": [
    "### Import necessary libraries"
   ]
  },
  {
   "cell_type": "code",
   "execution_count": 3,
   "metadata": {},
   "outputs": [],
   "source": [
    "# In this cell, import all the libraries that you need. For example: \n",
    "import numpy as np\n",
    "import pandas as pd\n",
    "from sklearn.preprocessing import StandardScaler\n",
    "from sklearn.neighbors import NearestNeighbors\n",
    "import matplotlib.pyplot as plt"
   ]
  },
  {
   "cell_type": "markdown",
   "metadata": {},
   "source": [
    "### Read in the datasets"
   ]
  },
  {
   "cell_type": "code",
   "execution_count": 4,
   "metadata": {},
   "outputs": [
    {
     "name": "stdout",
     "output_type": "stream",
     "text": [
      "Dimensions of input.csv: (1691, 75)\n",
      "Dimensions of output.csv: (1691, 1)\n",
      "Dimensions of coordinates.csv: (1691, 2)\n"
     ]
    }
   ],
   "source": [
    "# In this cell, read the files input.csv, output.csv and coordinates.csv.\n",
    "# Print out the dataset dimesions (i.e. number of rows and columns).\n",
    "\n",
    "input_data = pd.read_csv(\"input.csv\", header=None)\n",
    "output_data = pd.read_csv(\"output.csv\", header=None)\n",
    "coordinates_data = pd.read_csv(\"coordinates.csv\", header=None)\n",
    "\n",
    "input_array = input_data.to_numpy()\n",
    "output_array = output_data.to_numpy()\n",
    "coordinates_array = coordinates_data.to_numpy()\n",
    "\n",
    "print(\"Dimensions of input.csv:\", input_data.shape)\n",
    "print(\"Dimensions of output.csv:\", output_data.shape)\n",
    "print(\"Dimensions of coordinates.csv:\", coordinates_data.shape)"
   ]
  },
  {
   "cell_type": "markdown",
   "metadata": {},
   "source": [
    "### Standardization of the predictor features (input.csv)"
   ]
  },
  {
   "cell_type": "code",
   "execution_count": 5,
   "metadata": {},
   "outputs": [],
   "source": [
    "# Standardize the predictor features (input.csv) by removing the mean and scaling to unit variance. \n",
    "# In other words, z-score the predictor features. You are allowed to use third-party libraries for doing this. \n",
    "\n",
    "scaler = StandardScaler()\n",
    "input_data_standardized = scaler.fit_transform(input_data)\n",
    "input_data_standardized = pd.DataFrame(input_data_standardized)\n",
    "\n",
    "input_data_standardized_array = input_data_standardized.to_numpy()"
   ]
  },
  {
   "cell_type": "markdown",
   "metadata": {},
   "source": [
    "### Functions and analysis code"
   ]
  },
  {
   "cell_type": "code",
   "execution_count": 6,
   "metadata": {},
   "outputs": [],
   "source": [
    "# Include here all the functions and other relevant code that you need in order to implement the task.\n",
    "\n",
    "# Note! Utilize the following two functions in your implementation:\n",
    "\n",
    "### Function for calculating C-index ###\n",
    "# y: array containing true label values.\n",
    "# yp: array containing the predicted label values.\n",
    "def cindex(y, yp):\n",
    "    n = 0\n",
    "    h_num = 0 \n",
    "    for i in range(0, len(y)):\n",
    "        t = y[i]\n",
    "        p = yp[i]\n",
    "        for j in range(i+1, len(y)):\n",
    "            nt = y[j]\n",
    "            np = yp[j]\n",
    "            if (t != nt): \n",
    "                n = n + 1\n",
    "                if (p < np and t < nt) or (p > np and t > nt): \n",
    "                    h_num += 1\n",
    "                elif (p == np):\n",
    "                    h_num += 0.5\n",
    "    return h_num/n\n",
    "\n",
    "\n",
    "### Function for calculating the pairwise spatial distances between the data points ###\n",
    "# The function will return a n-by-n matrix of Euclidean distances. For example, the\n",
    "# distance_matrix element at indices i,j will contain the spatial distance between \n",
    "# data point i and j. Note that the element value is 0 always when i==j.\n",
    "# coordinate_array: n-by-2 array containing the coordinates of the exercise data points.\n",
    "def cdists(coordinate_array):\n",
    "    number_of_observations = coordinate_array.shape[0]\n",
    "    distance_matrix = np.zeros((number_of_observations, number_of_observations))\n",
    "    for i in range(0, number_of_observations):\n",
    "        distance_matrix[i, :] = np.sqrt(np.sum((coordinate_array - coordinate_array[i])**2, axis=1))\n",
    "    return distance_matrix"
   ]
  },
  {
   "cell_type": "markdown",
   "metadata": {},
   "source": [
    "### Results for spatial leave-one-out cross-validation with 15-nearest neighbor regression model"
   ]
  },
  {
   "cell_type": "code",
   "execution_count": 7,
   "metadata": {
    "scrolled": true
   },
   "outputs": [
    {
     "name": "stdout",
     "output_type": "stream",
     "text": [
      "[0.7208730150952852, 0.7177592537892203, 0.7139584841158626, 0.7128466014959494, 0.709170424272289, 0.7070054554693985, 0.7012710529741898, 0.6957557372023255, 0.6889227512812723, 0.6847534539406912, 0.6803111731429076, 0.6348076306575822, 0.6034911784345869, 0.5903305759670964, 0.5873760550110664, 0.5843098908206162, 0.5839347135563585, 0.583271503746873, 0.5830695659843014, 0.5818474400451332, 0.5809472945939476, 0.5789289669046056, 0.5780414206899062, 0.5776959916229076, 0.577106277359592, 0.5766604043794946]\n"
     ]
    }
   ],
   "source": [
    "# In this cell, run your script for the Spatial leave-One-Out cross-validation \n",
    "# with 15-nearest neighbor regression model and visualize the results as \n",
    "# requested in the task assignment.\n",
    "\n",
    "distance_matrix = cdists(coordinates_array)\n",
    "\n",
    "def leave_one_out_cv_knn(input_data, output_data, nearby_distance):\n",
    "    n_samples, n_features = input_data.shape\n",
    "    cv_scores = []\n",
    "    y_pred_list = []\n",
    "\n",
    "    for test_index in range(n_samples):\n",
    "        test_point = input_data[test_index]\n",
    "        distances_to_interest = distance_matrix[test_index, :]\n",
    "        nearby_points = np.where(distances_to_interest < nearby_distance)[0]\n",
    "        #nearby_points = nearby_points[nearby_points != test_index]\n",
    "        remove_indices = nearby_points.tolist()\n",
    "        remove_indices.append(test_index)\n",
    "        train_indices = np.setdiff1d(np.arange(n_samples), remove_indices)\n",
    "        X_train = input_data[train_indices]\n",
    "        y_train = output_data[train_indices]\n",
    "\n",
    "        # fitting the KNN model\n",
    "        knn = NearestNeighbors(n_neighbors=15)\n",
    "        knn.fit(X_train)\n",
    "\n",
    "        # finding k-nearest neighbors for the test point\n",
    "        distances, indices = knn.kneighbors([test_point])\n",
    "\n",
    "        # calculating the prediction\n",
    "        y_pred = np.mean(y_train[indices])\n",
    "        y_pred_list.append(y_pred)\n",
    "\n",
    "    # calculating c-index for all predictions here outside the cross validation loop\n",
    "    cv_score = cindex(output_data, np.array(y_pred_list))\n",
    "    return cv_score\n",
    "\n",
    "\n",
    "c_index_list = []\n",
    "# looping over the range of nearby distances to call the cross validation function\n",
    "for nearby_distance in range(0, 251, 10):\n",
    "    return_value = leave_one_out_cv_knn(input_array, output_array, nearby_distance)\n",
    "    c_index_list.append(return_value)\n",
    "print(c_index_list)"
   ]
  },
  {
   "cell_type": "code",
   "execution_count": 8,
   "metadata": {},
   "outputs": [
    {
     "data": {
      "image/png": "[encoded data removed]",
      "text/plain": [
       "<Figure size 1000x600 with 1 Axes>"
      ]
     },
     "metadata": {},
     "output_type": "display_data"
    }
   ],
   "source": [
    "# Plotting\n",
    "nearby_distances = range(0, 251, 10)\n",
    "plt.figure(figsize=(10, 6))\n",
    "plt.plot(nearby_distances, c_index_list, marker='o', linestyle='-')\n",
    "plt.title('C-index Performance Measure vs Nearby Distance')\n",
    "plt.xlabel('Nearby Distance')\n",
    "plt.ylabel('C-index')\n",
    "plt.grid(True)\n",
    "plt.xticks(range(0, 251, 10))\n",
    "plt.show()"
   ]
  },
  {
   "cell_type": "markdown",
   "metadata": {},
   "source": [
    "### Interpretation of the results"
   ]
  },
  {
   "cell_type": "markdown",
   "metadata": {},
   "source": [
    "# In this cell, give a brief commentary on the results, what happens to the prediction performance as the prediction distance increases?.\n",
    " As we can see from the illustration, by increasing the distance, the performance metric C-index values decreases. The reason is that, in spatial cross validation, by removing the nearby data points from training data, we avoid from optimistic results and it leads to more reliable cross validation. On the other hand, as much as we increase the hyperparameter distance, more nearby data points will be targeted to remove from traing data. So, it is logical that by increasing the distance, performnce metric C_index will be decrease which is much more reliable. In coclusion, prediction performance will be more robust and reliable by prediction distance increases."
   ]
  },
  {
   "cell_type": "code",
   "execution_count": null,
   "metadata": {},
   "outputs": [],
   "source": []
  }
 ],
 "metadata": {
  "kernelspec": {
   "display_name": "Python 3 (ipykernel)",
   "language": "python",
   "name": "python3"
  },
  "language_info": {
   "codemirror_mode": {
    "name": "ipython",
    "version": 3
   },
   "file_extension": ".py",
   "mimetype": "text/x-python",
   "name": "python",
   "nbconvert_exporter": "python",
   "pygments_lexer": "ipython3",
   "version": "3.8.10"
  },
  "toc": {
   "base_numbering": 1,
   "nav_menu": {},
   "number_sections": false,
   "sideBar": true,
   "skip_h1_title": false,
   "title_cell": "Table of Contents",
   "title_sidebar": "Contents",
   "toc_cell": false,
   "toc_position": {},
   "toc_section_display": true,
   "toc_window_display": true
  },
  "varInspector": {
   "cols": {
    "lenName": 16,
    "lenType": 16,
    "lenVar": 40
   },
   "kernels_config": {
    "python": {
     "delete_cmd_postfix": "",
     "delete_cmd_prefix": "del ",
     "library": "var_list.py",
     "varRefreshCmd": "print(var_dic_list())"
    },
    "r": {
     "delete_cmd_postfix": ") ",
     "delete_cmd_prefix": "rm(",
     "library": "var_list.r",
     "varRefreshCmd": "cat(var_dic_list()) "
    }
   },
   "types_to_exclude": [
    "module",
    "function",
    "builtin_function_or_method",
    "instance",
    "_Feature"
   ],
   "window_display": false
  }
 },
 "nbformat": 4,
 "nbformat_minor": 4
}
